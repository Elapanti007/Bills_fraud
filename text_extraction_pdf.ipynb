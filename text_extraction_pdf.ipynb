{
  "nbformat": 4,
  "nbformat_minor": 0,
  "metadata": {
    "colab": {
      "provenance": []
    },
    "kernelspec": {
      "name": "python3",
      "display_name": "Python 3"
    },
    "language_info": {
      "name": "python"
    }
  },
  "cells": [
    {
      "cell_type": "code",
      "source": [
        "!pip install pymupdf"
      ],
      "metadata": {
        "colab": {
          "base_uri": "https://localhost:8080/"
        },
        "id": "kwYfU4zH22u0",
        "outputId": "fa6cc8da-ab00-4484-dbc4-06dcf62928a0"
      },
      "execution_count": 4,
      "outputs": [
        {
          "output_type": "stream",
          "name": "stdout",
          "text": [
            "Requirement already satisfied: pymupdf in /usr/local/lib/python3.10/dist-packages (1.23.8)\n",
            "Requirement already satisfied: PyMuPDFb==1.23.7 in /usr/local/lib/python3.10/dist-packages (from pymupdf) (1.23.7)\n"
          ]
        }
      ]
    },
    {
      "cell_type": "code",
      "execution_count": 7,
      "metadata": {
        "colab": {
          "base_uri": "https://localhost:8080/"
        },
        "id": "6q29sxOh2nwq",
        "outputId": "d8142353-8352-4d4b-f64b-817a7dbebbf5"
      },
      "outputs": [
        {
          "output_type": "stream",
          "name": "stdout",
          "text": [
            "Account No: 102685134866\n",
            "User Name:102685134866\n",
            "Account No: 102685134866\n",
            "User Name:102685134866\n",
            "TAX INVOICE (Original for the Receipient)\n",
            "Amuru Hareesh .\n",
            "35,Sai Nilayam, Silver Springs Layout, Near Tasty Bakery,\n",
            "Munnekollal, Bangalore -560066\n",
            "Bangalore\n",
            "Karnataka\n",
            "India\n",
            "560066\n",
            "Home : 8639620182\n",
            "Mobile :\n",
            "User Id : 102685134866\n",
            "Account No : 102685134866\n",
            "Invoice No. : KA-B1-103171446\n",
            "GSTIN :\n",
            "ATRIA CONVERGENCE TECHNOLOGIES LIMITED,\n",
            "Golden Heights M.NO.1/2,\n",
            "59TH C Cross,4TH M Block\n",
            "Rajajinagar, Bangalore, 560010\n",
            "Ph.No : 9121212121,7288999999\n",
            "E-mail : helpdesk@actcorp.in\n",
            "GSTIN : 29AACCA8907B1ZU\n",
            "Billing Period\n",
            "Aug, 2023\n",
            "Invoice Date\n",
            "07/08/2023\n",
            "Amount Payable\n",
            "₹0\n",
            "Due Date\n",
            "15/08/2023\n",
            "Amount After Due Date\n",
            "₹0\n",
            "PAY BILL\n",
            "Account Summary\n",
            "Previous Due (A)\n",
            "₹0\n",
            "Invoice Amount (B)\n",
            "₹3,886.92\n",
            "Adjustments (C)\n",
            "₹0\n",
            "Payments Received (D)\n",
            "₹3,887\n",
            "Balance Amount (A+B-C-D)\n",
            "₹-0.08\n",
            "This Month's Summary\n",
            "Total Charges\n",
            "₹3,294.00\n",
            "CGST\n",
            "₹296.46\n",
            "SGST\n",
            "₹296.46\n",
            "Total\n",
            "₹3,886.92\n",
            "Invoice Charges\n",
            "Plan Name\n",
            "From Date\n",
            "To Date\n",
            "Quantity\n",
            "Rental\n",
            "Net Amount\n",
            "ACT Basic_6M+Free Router\n",
            "07/08/2023\n",
            "06/02/2024\n",
            "184 days\n",
            "3294\n",
            "3,294\n",
            "Sub Total:\n",
            "3,294\n",
            "Tax Details\n",
            "Account No: 102685134866\n",
            "User Name:102685134866\n",
            "Plan Name\n",
            "HSN Code\n",
            "Taxable Amount\n",
            "CGST\n",
            "SGST\n",
            "Total Tax\n",
            "Rate %\n",
            "Amount\n",
            "Rate %\n",
            "Amount\n",
            "ACT Basic_6M+Free Router\n",
            "998422\n",
            "3,294\n",
            "9\n",
            "296.46\n",
            "9\n",
            "296.46\n",
            "592.92\n",
            "Sub Total:\n",
            "296.46\n",
            "296.46\n",
            "592.92\n",
            "INVOICE AMOUNT:\n",
            "3,294\n",
            "296.46\n",
            "296.46\n",
            "3,886.92\n",
            "Payments Received\n",
            "RefNo\n",
            "Txn Date\n",
            "Details\n",
            "Amount\n",
            "Total\n",
            "Remarks\n",
            "P1-63136274\n",
            "06/08/2023\n",
            "Payment: Online Mode\n",
            "3,887\n",
            "3,887\n",
            "Payments :\n",
            "3,887\n",
            "Total Payments :\n",
            "3,887\n",
            "Terms and Conditions\n",
            "1. 18% interest will be levied on overdue payments.\n",
            "2. ACT Shall levy late fee charge in case the bill is paid after the due date.\n",
            "3. In case of overdue/ defaults, the right to deactivate your services, is reserved.\n",
            "4. All disputes are subject to Karnataka jurisdiction.\n",
            "5. Unless otherwise stated,tax on this invoice is not payable under reverse charge.\n",
            "�. This Invoice is system generated hence signature and stamp is not required.\n",
            "Registered oﬃce address: No. 1, 2nd and 3rd Floor, Indian Express Building, Queens Road, Bangalore - 560001.\n",
            "CIN no: U72900KA2000PLC027290 Tel: 08042884288 Fax no: 080-42884200\n",
            "\n"
          ]
        }
      ],
      "source": [
        "import fitz\n",
        "def extract_text_from_pdf(pdf_path):\n",
        "    text = \"\"\n",
        "    doc = fitz.open(pdf_path)\n",
        "\n",
        "    for page_num in range(doc.page_count):\n",
        "        page = doc.load_page(page_num)\n",
        "        text += page.get_text(\"text\")\n",
        "\n",
        "    doc.close()\n",
        "    return text\n",
        "\n",
        "pdf_text = extract_text_from_pdf('/content/drive/MyDrive/Bills/genuine_bill/act_hareesh.pdf')\n",
        "print(pdf_text)\n"
      ]
    },
    {
      "cell_type": "code",
      "source": [
        "import re\n",
        "\n",
        "def extract_gstin(text):\n",
        "    pattern = r'\\b\\d{2}[A-Z]{5}\\d{4}[A-Z]{1}\\d{1}[Z]{1}[A-Z\\d]{1}\\b'\n",
        "    matches = re.findall(pattern, text)\n",
        "    return matches[0] if matches else None\n",
        "\n",
        "pdf_text = extract_text_from_pdf('/content/drive/MyDrive/Bills/genuine_bill/act_hareesh.pdf')\n",
        "gstin = extract_gstin(pdf_text)\n",
        "\n",
        "if gstin:\n",
        "    print(\"GSTIN found:\", gstin)\n",
        "else:\n",
        "    print(\"GSTIN not found in the document.\")\n"
      ],
      "metadata": {
        "colab": {
          "base_uri": "https://localhost:8080/"
        },
        "id": "4yFKgscL46vV",
        "outputId": "76ef79b6-e923-44db-fe70-631a0ecc68c2"
      },
      "execution_count": 8,
      "outputs": [
        {
          "output_type": "stream",
          "name": "stdout",
          "text": [
            "GSTIN found: 29AACCA8907B1ZU\n"
          ]
        }
      ]
    }
  ]
}